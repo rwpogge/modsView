{
 "cells": [
  {
   "cell_type": "markdown",
   "id": "a9cc2336",
   "metadata": {},
   "source": [
    "# SAOImage ds9 python lab\n",
    "\n",
    "Jupyter notebook sandbox for developing new ds9 interaction tools using `samp` to replace the obsolete\n",
    "`psyds9` module.\n",
    "\n",
    "Started: 2025 Feb 4\n",
    "\n",
    "Updated: 2025 Feb 5 - prototyping elements used in modsView v3, but eventually other ds9-based codes.\n"
   ]
  },
  {
   "cell_type": "code",
   "execution_count": 10,
   "id": "df668b83",
   "metadata": {},
   "outputs": [],
   "source": [
    "import os\n",
    "import sys\n",
    "import numpy as np\n",
    "\n",
    "# better way to handle paths\n",
    "\n",
    "from pathlib import Path\n",
    "\n",
    "# astropy coordinates for ra/dec and units handling\n",
    "\n",
    "from astropy.coordinates import SkyCoord, Angle\n",
    "import astropy.units as u\n",
    "\n",
    "# better way to handle runtime config files\n",
    "\n",
    "import yaml\n",
    "\n",
    "# other bits we need?\n"
   ]
  },
  {
   "cell_type": "markdown",
   "id": "7322e7a4",
   "metadata": {},
   "source": [
    "### DS9 class\n",
    "\n",
    "Start of sketching out a \"myds9\" module DS9 class to encapsulate all the nasty bits of taking to ds9\n",
    "using samp.  They set/get syntax is very involved even with the convenience functions provided by\n",
    "the `SAMPIntegratedClient()` functions, and we need to pass info around so a class with internal properties\n",
    "to hold setup info makes sense."
   ]
  },
  {
   "cell_type": "code",
   "execution_count": 11,
   "id": "a72edb8f",
   "metadata": {},
   "outputs": [
    {
     "ename": "IndentationError",
     "evalue": "expected an indented block after class definition on line 9 (2221704653.py, line 10)",
     "output_type": "error",
     "traceback": [
      "\u001b[0;36m  Cell \u001b[0;32mIn[11], line 10\u001b[0;36m\u001b[0m\n\u001b[0;31m    '''\u001b[0m\n\u001b[0m    ^\u001b[0m\n\u001b[0;31mIndentationError\u001b[0m\u001b[0;31m:\u001b[0m expected an indented block after class definition on line 9\n"
     ]
    }
   ],
   "source": [
    "# astropy has a samp client/hub interaction module\n",
    "\n",
    "from astropy.samp import SAMPIntegratedClient, SAMPHubError\n",
    "import time\n",
    "import subprocess\n",
    "import shlex\n",
    "\n",
    "\n"
   ]
  },
  {
   "cell_type": "markdown",
   "id": "b7962cb0",
   "metadata": {},
   "source": [
    "## Startup process\n",
    "\n",
    "\n",
    "Instantiate a `SAMPIntegratedClient()` class and try to connect.\n",
    "\n",
    "If a samp hub is running `connect()` will succeed and set the `is_connected` attribute True.  If we\n",
    "are connected, then try to find the named ds9 instance `ds9ID` (e.g., `modsView`).  If we don't find\n",
    "it, start one and then verify we see it in the samp client table.\n",
    "\n",
    "If no samp hub is running it raises a `SAMPHubError` exception. The corrective is to launch a named ds9\n",
    "window with the `ds9ID` with the `-samp` flag so that it also starts a samp hub.  This is a nice feature of ds9\n",
    "that it takes care of launcing a hub for us if needed, or attaches to the running samp hub.\n",
    "\n",
    "This makes the startup logic complicated as seen below.\n"
   ]
  },
  {
   "cell_type": "code",
   "execution_count": null,
   "id": "cbb0c84b",
   "metadata": {},
   "outputs": [],
   "source": [
    "ds9ID = \"modsView\"\n",
    "ds9 = DS9(ds9ID)\n",
    "\n",
    "if ds9.connected:\n",
    "    if ds9.haveDS9:\n",
    "        print(f\"Connected named ds9 instance {ds9.ds9ID} as samp client {ds9.clientID}\")\n",
    "    else:\n",
    "        print(f\"Connected to a samp hub but no named ds9 instance {ds9.ds9ID} found\")\n",
    "else:\n",
    "    print(f\"could not connect or start a samp hub or ds9 instance\")\n",
    "    "
   ]
  },
  {
   "cell_type": "markdown",
   "id": "0d248ad3",
   "metadata": {},
   "source": [
    "### send ds9 set commands\n",
    "\n",
    "We got this far we have a ds9 instance to talk to through a samp hub, now configure the ds9 window to our\n",
    "liking.\n",
    " * dimensions: 800x800\n",
    " * clear all frames\n",
    " * remove redundant pixel output\n",
    " * remove colorbar\n"
   ]
  },
  {
   "cell_type": "code",
   "execution_count": null,
   "id": "46729cc2",
   "metadata": {},
   "outputs": [],
   "source": [
    "ds9.set(\"width 800\")\n",
    "ds9.set(\"height 800\")\n",
    "ds9.set(\"frame clear all\")\n",
    "ds9.set(\"view image no\")        # redundant pixel readout\n",
    "ds9.set(\"view colorbar no\")     # don't need color bar\n",
    "ds9.set(\"raise\")\n",
    "\n",
    "# display an image\n",
    "\n",
    "fitsFile = \"/Users/rwpogge/DEMONEXT/Data/n20190621.GuideCal.i.0006.fits\"\n",
    "ds9.set(f\"file fits {fitsFile}\")\n",
    "ds9.set(\"zoom to fit\")\n",
    "ds9.set(\"scale mode zscale\")"
   ]
  },
  {
   "cell_type": "markdown",
   "id": "c5b0a288",
   "metadata": {},
   "source": [
    "### send ds9 get commands\n",
    "\n",
    "See if see can get stuff from ds9"
   ]
  },
  {
   "cell_type": "code",
   "execution_count": null,
   "id": "f60c90c2",
   "metadata": {},
   "outputs": [],
   "source": [
    "foo = ds9.get(\"file\")\n",
    "print(foo)\n",
    "\n",
    "foo = ds9.get(\"fits\")\n",
    "print(foo)"
   ]
  },
  {
   "cell_type": "markdown",
   "id": "72f11c92",
   "metadata": {},
   "source": [
    "### iexam test\n",
    "\n",
    "DS9 remote cursor command is `iexam` "
   ]
  },
  {
   "cell_type": "code",
   "execution_count": null,
   "id": "eb8da88a",
   "metadata": {},
   "outputs": [],
   "source": [
    "#print(f\"Put cursor on the {ds9.ds9ID} display and hit any key to return\")\n",
    "#\n",
    "#cursData = ds9.get(\"iexam key coordinate image\")\n",
    "#\n",
    "#cursBits = cursData.split(' ')\n",
    "#key = cursBits[0]\n",
    "#cursX = float(cursBits[1])\n",
    "#cursY = float(cursBits[2])\n",
    "\n",
    "cursKey, cursX, cursY = ds9.getCursKey()\n",
    "\n",
    "print(f\"Got key={cursKey}, X,Y={cursX:.2f},{cursY:.2f}\")\n",
    "    "
   ]
  }
 ],
 "metadata": {
  "kernelspec": {
   "display_name": "Python 3 (ipykernel)",
   "language": "python",
   "name": "python3"
  },
  "language_info": {
   "codemirror_mode": {
    "name": "ipython",
    "version": 3
   },
   "file_extension": ".py",
   "mimetype": "text/x-python",
   "name": "python",
   "nbconvert_exporter": "python",
   "pygments_lexer": "ipython3",
   "version": "3.10.13"
  }
 },
 "nbformat": 4,
 "nbformat_minor": 5
}
